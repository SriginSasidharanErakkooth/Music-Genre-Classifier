{
 "cells": [
  {
   "cell_type": "code",
   "execution_count": 1,
   "metadata": {},
   "outputs": [],
   "source": [
    "import pandas as pd\n",
    "import numpy as np\n",
    "import seaborn as sns\n",
    "import matplotlib.pyplot as plt\n",
    "%matplotlib inline\n",
    "import sklearn\n",
    "\n",
    "\n",
    "import librosa\n",
    "import librosa.display\n",
    "import IPython.display as ipd"
   ]
  },
  {
   "cell_type": "code",
   "execution_count": 2,
   "metadata": {},
   "outputs": [
    {
     "name": "stdout",
     "output_type": "stream",
     "text": [
      "['blues', 'classical', 'country', 'disco', 'hiphop', 'jazz', 'metal', 'pop', 'reggae', 'rock']\n"
     ]
    }
   ],
   "source": [
    "import os\n",
    "general_path = 'D:/datasets_for_final_year/Data'\n",
    "print(list(os.listdir(f'{general_path}/genres_original/')))"
   ]
  },
  {
   "cell_type": "code",
   "execution_count": 3,
   "metadata": {},
   "outputs": [],
   "source": [
    "y, sr = librosa.load(f'{general_path}/genres_original/blues/0_blues.00000.wav')"
   ]
  },
  {
   "cell_type": "code",
   "execution_count": 4,
   "metadata": {},
   "outputs": [
    {
     "data": {
      "text/plain": [
       "array([ 0.00732422,  0.01660156,  0.00762939, ..., -0.04373169,\n",
       "       -0.05706787, -0.04086304], dtype=float32)"
      ]
     },
     "execution_count": 4,
     "metadata": {},
     "output_type": "execute_result"
    }
   ],
   "source": [
    "y"
   ]
  },
  {
   "cell_type": "code",
   "execution_count": 5,
   "metadata": {},
   "outputs": [],
   "source": [
    "def Feature_extraction(filename):\n",
    "    import librosa\n",
    "    import numpy as np\n",
    "\n",
    "\n",
    "    y, sr = librosa.load(filename)\n",
    "    #fetching tempo\n",
    "\n",
    "    onset_env = librosa.onset.onset_strength(y, sr)\n",
    "    tempo = librosa.beat.tempo(onset_envelope=onset_env, sr=sr)\n",
    "\n",
    "    #fetching beats\n",
    "\n",
    "    y_harmonic, y_percussive = librosa.effects.hpss(y)\n",
    "    tempo, beat_frames = librosa.beat.beat_track(y=y_percussive,sr=sr)\n",
    "\n",
    "    #chroma_stft\n",
    "\n",
    "    chroma_stft = librosa.feature.chroma_stft(y=y, sr=sr)\n",
    "\n",
    "    #rmse\n",
    "\n",
    "    rmse = librosa.feature.rms(y=y)\n",
    "\n",
    "    #fetching spectral centroid\n",
    "\n",
    "    spec_centroid = librosa.feature.spectral_centroid(y, sr=sr)[0]\n",
    "\n",
    "    #spectral bandwidth\n",
    "\n",
    "    spec_bw = librosa.feature.spectral_bandwidth(y=y, sr=sr)\n",
    "\n",
    "    #fetching spectral rolloff\n",
    "\n",
    "    spec_rolloff = librosa.feature.spectral_rolloff(y+0.01, sr=sr)[0]\n",
    "\n",
    "    #zero crossing rate\n",
    "\n",
    "    zero_crossing = librosa.feature.zero_crossing_rate(y)\n",
    "\n",
    "    #mfcc\n",
    "\n",
    "    mfcc = librosa.feature.mfcc(y=y, sr=sr)\n",
    "\n",
    "    #metadata dictionary\n",
    "\n",
    "    metadata_dict = {'chroma_stft_mean':np.mean(chroma_stft),'rms_mean':np.mean(rmse),\n",
    "                     'spectral_centroid_mean':np.mean(spec_centroid),'spectral_bandwidth_mean':np.mean(spec_bw), \n",
    "                     'rolloff_mean':np.mean(spec_rolloff), 'zero_crossing_rate_mean':np.mean(zero_crossing), 'harmony_mean':np.mean(y_harmonic)}\n",
    "\n",
    "    for i in range(1,21):\n",
    "        metadata_dict.update({'mfcc'+str(i)+'_mean':np.mean(mfcc[i-1])})\n",
    "    \n",
    "    metadata_dict.update({'tempo':tempo})\n",
    "    return list(metadata_dict.values())"
   ]
  },
  {
   "cell_type": "code",
   "execution_count": 10,
   "metadata": {},
   "outputs": [],
   "source": [
    "data=pd.read_csv('features_3_sec_.csv')"
   ]
  },
  {
   "cell_type": "code",
   "execution_count": 11,
   "metadata": {},
   "outputs": [
    {
     "data": {
      "text/html": [
       "<div>\n",
       "<style scoped>\n",
       "    .dataframe tbody tr th:only-of-type {\n",
       "        vertical-align: middle;\n",
       "    }\n",
       "\n",
       "    .dataframe tbody tr th {\n",
       "        vertical-align: top;\n",
       "    }\n",
       "\n",
       "    .dataframe thead th {\n",
       "        text-align: right;\n",
       "    }\n",
       "</style>\n",
       "<table border=\"1\" class=\"dataframe\">\n",
       "  <thead>\n",
       "    <tr style=\"text-align: right;\">\n",
       "      <th></th>\n",
       "      <th>filename</th>\n",
       "      <th>chroma_stft_mean</th>\n",
       "      <th>rms_mean</th>\n",
       "      <th>spectral_centroid_mean</th>\n",
       "      <th>spectral_bandwidth_mean</th>\n",
       "      <th>rolloff_mean</th>\n",
       "      <th>zero_crossing_rate_mean</th>\n",
       "      <th>harmonic_mean</th>\n",
       "      <th>tempo</th>\n",
       "      <th>mfcc1_mean</th>\n",
       "      <th>...</th>\n",
       "      <th>mfcc12_mean</th>\n",
       "      <th>mfcc13_mean</th>\n",
       "      <th>mfcc14_mean</th>\n",
       "      <th>mfcc15_mean</th>\n",
       "      <th>mfcc16_mean</th>\n",
       "      <th>mfcc17_mean</th>\n",
       "      <th>mfcc18_mean</th>\n",
       "      <th>mfcc19_mean</th>\n",
       "      <th>mfcc20_mean</th>\n",
       "      <th>label</th>\n",
       "    </tr>\n",
       "  </thead>\n",
       "  <tbody>\n",
       "    <tr>\n",
       "      <th>0</th>\n",
       "      <td>blues.00000.0.wav</td>\n",
       "      <td>0.335406</td>\n",
       "      <td>0.130405</td>\n",
       "      <td>1773.065032</td>\n",
       "      <td>1972.744388</td>\n",
       "      <td>3714.560359</td>\n",
       "      <td>0.081851</td>\n",
       "      <td>-0.000078</td>\n",
       "      <td>129.199219</td>\n",
       "      <td>-118.627914</td>\n",
       "      <td>...</td>\n",
       "      <td>10.183875</td>\n",
       "      <td>-4.681614</td>\n",
       "      <td>8.417439</td>\n",
       "      <td>-7.233477</td>\n",
       "      <td>-2.853603</td>\n",
       "      <td>-3.241280</td>\n",
       "      <td>0.722209</td>\n",
       "      <td>-5.050335</td>\n",
       "      <td>-0.243027</td>\n",
       "      <td>blues</td>\n",
       "    </tr>\n",
       "    <tr>\n",
       "      <th>1</th>\n",
       "      <td>blues.00000.1.wav</td>\n",
       "      <td>0.343065</td>\n",
       "      <td>0.112699</td>\n",
       "      <td>1816.693777</td>\n",
       "      <td>2010.051501</td>\n",
       "      <td>3869.682242</td>\n",
       "      <td>0.087173</td>\n",
       "      <td>-0.000099</td>\n",
       "      <td>123.046875</td>\n",
       "      <td>-125.590706</td>\n",
       "      <td>...</td>\n",
       "      <td>8.145000</td>\n",
       "      <td>-7.717751</td>\n",
       "      <td>8.397150</td>\n",
       "      <td>-8.300493</td>\n",
       "      <td>4.074709</td>\n",
       "      <td>-6.055294</td>\n",
       "      <td>0.159015</td>\n",
       "      <td>-2.837699</td>\n",
       "      <td>5.784063</td>\n",
       "      <td>blues</td>\n",
       "    </tr>\n",
       "    <tr>\n",
       "      <th>2</th>\n",
       "      <td>blues.00000.2.wav</td>\n",
       "      <td>0.346815</td>\n",
       "      <td>0.132003</td>\n",
       "      <td>1788.539719</td>\n",
       "      <td>2084.565132</td>\n",
       "      <td>3997.639160</td>\n",
       "      <td>0.071383</td>\n",
       "      <td>-0.000066</td>\n",
       "      <td>123.046875</td>\n",
       "      <td>-132.441940</td>\n",
       "      <td>...</td>\n",
       "      <td>11.853963</td>\n",
       "      <td>-4.677677</td>\n",
       "      <td>6.571110</td>\n",
       "      <td>-2.424750</td>\n",
       "      <td>4.806280</td>\n",
       "      <td>-1.768610</td>\n",
       "      <td>2.378768</td>\n",
       "      <td>-1.938424</td>\n",
       "      <td>2.517375</td>\n",
       "      <td>blues</td>\n",
       "    </tr>\n",
       "    <tr>\n",
       "      <th>3</th>\n",
       "      <td>blues.00000.3.wav</td>\n",
       "      <td>0.363639</td>\n",
       "      <td>0.132565</td>\n",
       "      <td>1655.289045</td>\n",
       "      <td>1960.039988</td>\n",
       "      <td>3568.300218</td>\n",
       "      <td>0.069426</td>\n",
       "      <td>-0.000014</td>\n",
       "      <td>123.046875</td>\n",
       "      <td>-118.231087</td>\n",
       "      <td>...</td>\n",
       "      <td>10.389314</td>\n",
       "      <td>-4.362739</td>\n",
       "      <td>9.156193</td>\n",
       "      <td>-9.889441</td>\n",
       "      <td>-1.359111</td>\n",
       "      <td>-3.841155</td>\n",
       "      <td>1.218588</td>\n",
       "      <td>-3.580352</td>\n",
       "      <td>3.630866</td>\n",
       "      <td>blues</td>\n",
       "    </tr>\n",
       "    <tr>\n",
       "      <th>4</th>\n",
       "      <td>blues.00000.4.wav</td>\n",
       "      <td>0.335579</td>\n",
       "      <td>0.143289</td>\n",
       "      <td>1630.656199</td>\n",
       "      <td>1948.503884</td>\n",
       "      <td>3469.992864</td>\n",
       "      <td>0.070095</td>\n",
       "      <td>0.000041</td>\n",
       "      <td>123.046875</td>\n",
       "      <td>-105.968376</td>\n",
       "      <td>...</td>\n",
       "      <td>17.045437</td>\n",
       "      <td>-5.681399</td>\n",
       "      <td>5.705521</td>\n",
       "      <td>-7.986080</td>\n",
       "      <td>2.092937</td>\n",
       "      <td>0.664582</td>\n",
       "      <td>1.689446</td>\n",
       "      <td>-3.392489</td>\n",
       "      <td>0.536961</td>\n",
       "      <td>blues</td>\n",
       "    </tr>\n",
       "    <tr>\n",
       "      <th>...</th>\n",
       "      <td>...</td>\n",
       "      <td>...</td>\n",
       "      <td>...</td>\n",
       "      <td>...</td>\n",
       "      <td>...</td>\n",
       "      <td>...</td>\n",
       "      <td>...</td>\n",
       "      <td>...</td>\n",
       "      <td>...</td>\n",
       "      <td>...</td>\n",
       "      <td>...</td>\n",
       "      <td>...</td>\n",
       "      <td>...</td>\n",
       "      <td>...</td>\n",
       "      <td>...</td>\n",
       "      <td>...</td>\n",
       "      <td>...</td>\n",
       "      <td>...</td>\n",
       "      <td>...</td>\n",
       "      <td>...</td>\n",
       "      <td>...</td>\n",
       "    </tr>\n",
       "    <tr>\n",
       "      <th>9985</th>\n",
       "      <td>rock.00099.5.wav</td>\n",
       "      <td>0.349126</td>\n",
       "      <td>0.050019</td>\n",
       "      <td>1499.083005</td>\n",
       "      <td>1718.707215</td>\n",
       "      <td>3015.559458</td>\n",
       "      <td>0.072885</td>\n",
       "      <td>-0.000034</td>\n",
       "      <td>123.046875</td>\n",
       "      <td>-224.972168</td>\n",
       "      <td>...</td>\n",
       "      <td>9.496511</td>\n",
       "      <td>-16.715929</td>\n",
       "      <td>8.380793</td>\n",
       "      <td>-2.225949</td>\n",
       "      <td>5.773784</td>\n",
       "      <td>-9.094270</td>\n",
       "      <td>-4.246976</td>\n",
       "      <td>-5.625813</td>\n",
       "      <td>1.818823</td>\n",
       "      <td>rock</td>\n",
       "    </tr>\n",
       "    <tr>\n",
       "      <th>9986</th>\n",
       "      <td>rock.00099.6.wav</td>\n",
       "      <td>0.372564</td>\n",
       "      <td>0.057897</td>\n",
       "      <td>1847.965128</td>\n",
       "      <td>1906.468492</td>\n",
       "      <td>3746.694524</td>\n",
       "      <td>0.089111</td>\n",
       "      <td>-0.000027</td>\n",
       "      <td>83.354335</td>\n",
       "      <td>-192.806641</td>\n",
       "      <td>...</td>\n",
       "      <td>11.510695</td>\n",
       "      <td>-19.505360</td>\n",
       "      <td>2.598546</td>\n",
       "      <td>-8.003813</td>\n",
       "      <td>2.074155</td>\n",
       "      <td>-12.375726</td>\n",
       "      <td>-3.081278</td>\n",
       "      <td>-11.960546</td>\n",
       "      <td>0.428857</td>\n",
       "      <td>rock</td>\n",
       "    </tr>\n",
       "    <tr>\n",
       "      <th>9987</th>\n",
       "      <td>rock.00099.7.wav</td>\n",
       "      <td>0.347481</td>\n",
       "      <td>0.052403</td>\n",
       "      <td>1346.157659</td>\n",
       "      <td>1561.859087</td>\n",
       "      <td>2442.362154</td>\n",
       "      <td>0.072194</td>\n",
       "      <td>0.000015</td>\n",
       "      <td>123.046875</td>\n",
       "      <td>-287.840088</td>\n",
       "      <td>...</td>\n",
       "      <td>6.899863</td>\n",
       "      <td>-13.186050</td>\n",
       "      <td>-3.914767</td>\n",
       "      <td>-9.124884</td>\n",
       "      <td>-1.005473</td>\n",
       "      <td>-2.524483</td>\n",
       "      <td>4.809936</td>\n",
       "      <td>1.775686</td>\n",
       "      <td>-0.299545</td>\n",
       "      <td>rock</td>\n",
       "    </tr>\n",
       "    <tr>\n",
       "      <th>9988</th>\n",
       "      <td>rock.00099.8.wav</td>\n",
       "      <td>0.387527</td>\n",
       "      <td>0.066430</td>\n",
       "      <td>2084.515327</td>\n",
       "      <td>2018.366254</td>\n",
       "      <td>4313.266226</td>\n",
       "      <td>0.104072</td>\n",
       "      <td>0.000004</td>\n",
       "      <td>123.046875</td>\n",
       "      <td>-162.659592</td>\n",
       "      <td>...</td>\n",
       "      <td>12.855068</td>\n",
       "      <td>-14.699870</td>\n",
       "      <td>4.112486</td>\n",
       "      <td>-5.266814</td>\n",
       "      <td>4.123402</td>\n",
       "      <td>-5.363541</td>\n",
       "      <td>6.462601</td>\n",
       "      <td>2.354765</td>\n",
       "      <td>0.675824</td>\n",
       "      <td>rock</td>\n",
       "    </tr>\n",
       "    <tr>\n",
       "      <th>9989</th>\n",
       "      <td>rock.00099.9.wav</td>\n",
       "      <td>0.369293</td>\n",
       "      <td>0.050524</td>\n",
       "      <td>1634.330126</td>\n",
       "      <td>1867.422378</td>\n",
       "      <td>3462.042142</td>\n",
       "      <td>0.068495</td>\n",
       "      <td>-0.000033</td>\n",
       "      <td>234.907670</td>\n",
       "      <td>-236.018494</td>\n",
       "      <td>...</td>\n",
       "      <td>18.518749</td>\n",
       "      <td>-13.869130</td>\n",
       "      <td>9.048212</td>\n",
       "      <td>-7.005269</td>\n",
       "      <td>1.342274</td>\n",
       "      <td>-11.598399</td>\n",
       "      <td>-0.178517</td>\n",
       "      <td>-6.903252</td>\n",
       "      <td>-3.412534</td>\n",
       "      <td>rock</td>\n",
       "    </tr>\n",
       "  </tbody>\n",
       "</table>\n",
       "<p>9990 rows × 30 columns</p>\n",
       "</div>"
      ],
      "text/plain": [
       "               filename  chroma_stft_mean  rms_mean  spectral_centroid_mean  \\\n",
       "0     blues.00000.0.wav          0.335406  0.130405             1773.065032   \n",
       "1     blues.00000.1.wav          0.343065  0.112699             1816.693777   \n",
       "2     blues.00000.2.wav          0.346815  0.132003             1788.539719   \n",
       "3     blues.00000.3.wav          0.363639  0.132565             1655.289045   \n",
       "4     blues.00000.4.wav          0.335579  0.143289             1630.656199   \n",
       "...                 ...               ...       ...                     ...   \n",
       "9985   rock.00099.5.wav          0.349126  0.050019             1499.083005   \n",
       "9986   rock.00099.6.wav          0.372564  0.057897             1847.965128   \n",
       "9987   rock.00099.7.wav          0.347481  0.052403             1346.157659   \n",
       "9988   rock.00099.8.wav          0.387527  0.066430             2084.515327   \n",
       "9989   rock.00099.9.wav          0.369293  0.050524             1634.330126   \n",
       "\n",
       "      spectral_bandwidth_mean  rolloff_mean  zero_crossing_rate_mean  \\\n",
       "0                 1972.744388   3714.560359                 0.081851   \n",
       "1                 2010.051501   3869.682242                 0.087173   \n",
       "2                 2084.565132   3997.639160                 0.071383   \n",
       "3                 1960.039988   3568.300218                 0.069426   \n",
       "4                 1948.503884   3469.992864                 0.070095   \n",
       "...                       ...           ...                      ...   \n",
       "9985              1718.707215   3015.559458                 0.072885   \n",
       "9986              1906.468492   3746.694524                 0.089111   \n",
       "9987              1561.859087   2442.362154                 0.072194   \n",
       "9988              2018.366254   4313.266226                 0.104072   \n",
       "9989              1867.422378   3462.042142                 0.068495   \n",
       "\n",
       "      harmonic_mean       tempo  mfcc1_mean  ...  mfcc12_mean  mfcc13_mean  \\\n",
       "0         -0.000078  129.199219 -118.627914  ...    10.183875    -4.681614   \n",
       "1         -0.000099  123.046875 -125.590706  ...     8.145000    -7.717751   \n",
       "2         -0.000066  123.046875 -132.441940  ...    11.853963    -4.677677   \n",
       "3         -0.000014  123.046875 -118.231087  ...    10.389314    -4.362739   \n",
       "4          0.000041  123.046875 -105.968376  ...    17.045437    -5.681399   \n",
       "...             ...         ...         ...  ...          ...          ...   \n",
       "9985      -0.000034  123.046875 -224.972168  ...     9.496511   -16.715929   \n",
       "9986      -0.000027   83.354335 -192.806641  ...    11.510695   -19.505360   \n",
       "9987       0.000015  123.046875 -287.840088  ...     6.899863   -13.186050   \n",
       "9988       0.000004  123.046875 -162.659592  ...    12.855068   -14.699870   \n",
       "9989      -0.000033  234.907670 -236.018494  ...    18.518749   -13.869130   \n",
       "\n",
       "      mfcc14_mean  mfcc15_mean  mfcc16_mean  mfcc17_mean  mfcc18_mean  \\\n",
       "0        8.417439    -7.233477    -2.853603    -3.241280     0.722209   \n",
       "1        8.397150    -8.300493     4.074709    -6.055294     0.159015   \n",
       "2        6.571110    -2.424750     4.806280    -1.768610     2.378768   \n",
       "3        9.156193    -9.889441    -1.359111    -3.841155     1.218588   \n",
       "4        5.705521    -7.986080     2.092937     0.664582     1.689446   \n",
       "...           ...          ...          ...          ...          ...   \n",
       "9985     8.380793    -2.225949     5.773784    -9.094270    -4.246976   \n",
       "9986     2.598546    -8.003813     2.074155   -12.375726    -3.081278   \n",
       "9987    -3.914767    -9.124884    -1.005473    -2.524483     4.809936   \n",
       "9988     4.112486    -5.266814     4.123402    -5.363541     6.462601   \n",
       "9989     9.048212    -7.005269     1.342274   -11.598399    -0.178517   \n",
       "\n",
       "      mfcc19_mean  mfcc20_mean  label  \n",
       "0       -5.050335    -0.243027  blues  \n",
       "1       -2.837699     5.784063  blues  \n",
       "2       -1.938424     2.517375  blues  \n",
       "3       -3.580352     3.630866  blues  \n",
       "4       -3.392489     0.536961  blues  \n",
       "...           ...          ...    ...  \n",
       "9985    -5.625813     1.818823   rock  \n",
       "9986   -11.960546     0.428857   rock  \n",
       "9987     1.775686    -0.299545   rock  \n",
       "9988     2.354765     0.675824   rock  \n",
       "9989    -6.903252    -3.412534   rock  \n",
       "\n",
       "[9990 rows x 30 columns]"
      ]
     },
     "execution_count": 11,
     "metadata": {},
     "output_type": "execute_result"
    }
   ],
   "source": [
    "\n",
    "data"
   ]
  },
  {
   "cell_type": "code",
   "execution_count": 12,
   "metadata": {},
   "outputs": [],
   "source": [
    "df=data.drop(['filename'], axis = 1)"
   ]
  },
  {
   "cell_type": "code",
   "execution_count": 14,
   "metadata": {},
   "outputs": [],
   "source": [
    "from xgboost import XGBClassifier\n",
    "from xgboost import plot_tree, plot_importance\n",
    "\n",
    "from sklearn.metrics import confusion_matrix, accuracy_score\n",
    "from sklearn import preprocessing\n",
    "from sklearn.model_selection import train_test_split\n"
   ]
  },
  {
   "cell_type": "code",
   "execution_count": 15,
   "metadata": {},
   "outputs": [],
   "source": [
    "y =df['label'] # dependent feature\n",
    "X = df.loc[:, df.columns != 'label'] #select all columns but not the labels  --independent fearutures\n",
    "\n",
    "cols = X.columns\n",
    "min_max_scaler = preprocessing.MinMaxScaler()\n",
    "np_scaled = min_max_scaler.fit_transform(X)\n",
    "X = pd.DataFrame(np_scaled, columns = cols)"
   ]
  },
  {
   "cell_type": "code",
   "execution_count": 16,
   "metadata": {},
   "outputs": [],
   "source": [
    "y =df ['label'] # dependent feature\n",
    "X = df.loc[:, df.columns != 'label'] #select all columns but not the labels  --independent"
   ]
  },
  {
   "cell_type": "code",
   "execution_count": 17,
   "metadata": {},
   "outputs": [],
   "source": [
    "X_train, X_test, y_train, y_test = train_test_split(X, y, test_size=0.3, random_state=42)"
   ]
  },
  {
   "cell_type": "code",
   "execution_count": 18,
   "metadata": {},
   "outputs": [],
   "source": [
    "train_x = X_train.values\n",
    "test_x = X_test.values\n",
    "train_y=y_train\n",
    "test_y=y_test"
   ]
  },
  {
   "cell_type": "code",
   "execution_count": 19,
   "metadata": {},
   "outputs": [],
   "source": [
    "def model_assess(model, title = \"Default\"):\n",
    "    model.fit(X_train, y_train)\n",
    "    pred_train = model.predict(train_x)\n",
    "    pred_test=model.predict(test_x)\n",
    "   \n",
    "    print(' Prediction Accuracy ', ':', round(accuracy_score(train_y, pred_train), 5), '\\n')\n",
    "    print('Test Accuracy', ':', round(accuracy_score(test_y, pred_test), 5), '\\n')"
   ]
  },
  {
   "cell_type": "code",
   "execution_count": 21,
   "metadata": {},
   "outputs": [],
   "source": [
    "from sklearn.neighbors import KNeighborsClassifier\n",
    "from sklearn.tree import DecisionTreeClassifier\n",
    "from sklearn.ensemble import RandomForestClassifier\n",
    "from sklearn.svm import SVC\n"
   ]
  },
  {
   "cell_type": "markdown",
   "metadata": {},
   "source": [
    "## Decision Tree "
   ]
  },
  {
   "cell_type": "code",
   "execution_count": 22,
   "metadata": {},
   "outputs": [
    {
     "name": "stdout",
     "output_type": "stream",
     "text": [
      " Prediction Accuracy  : 0.99928 \n",
      "\n",
      "Test Accuracy : 0.61228 \n",
      "\n"
     ]
    }
   ],
   "source": [
    "tree = DecisionTreeClassifier()\n",
    "model_assess(tree, \"Decission trees\")"
   ]
  },
  {
   "cell_type": "markdown",
   "metadata": {},
   "source": [
    "## Random Forest "
   ]
  },
  {
   "cell_type": "code",
   "execution_count": 23,
   "metadata": {},
   "outputs": [
    {
     "name": "stdout",
     "output_type": "stream",
     "text": [
      " Prediction Accuracy  : 0.95667 \n",
      "\n",
      "Test Accuracy : 0.78111 \n",
      "\n"
     ]
    }
   ],
   "source": [
    "rforest = RandomForestClassifier(n_estimators=1000, max_depth=10, random_state=0)\n",
    "model_assess(rforest, \"Random Forest\")"
   ]
  },
  {
   "cell_type": "code",
   "execution_count": 24,
   "metadata": {},
   "outputs": [
    {
     "name": "stdout",
     "output_type": "stream",
     "text": [
      " Prediction Accuracy  : 0.34678 \n",
      "\n",
      "Test Accuracy : 0.33867 \n",
      "\n"
     ]
    }
   ],
   "source": [
    "svm = SVC(decision_function_shape=\"ovo\")\n",
    "model_assess(svm, \"Support Vector Machine\")"
   ]
  },
  {
   "cell_type": "code",
   "execution_count": 25,
   "metadata": {},
   "outputs": [
    {
     "name": "stdout",
     "output_type": "stream",
     "text": [
      " Prediction Accuracy  : 0.5025 \n",
      "\n",
      "Test Accuracy : 0.41975 \n",
      "\n"
     ]
    }
   ],
   "source": [
    "knn = KNeighborsClassifier(n_neighbors=19)\n",
    "model_assess(knn, \"KNN\")"
   ]
  },
  {
   "cell_type": "code",
   "execution_count": 28,
   "metadata": {},
   "outputs": [
    {
     "name": "stdout",
     "output_type": "stream",
     "text": [
      "[10:54:38] WARNING: C:/Users/Administrator/workspace/xgboost-win64_release_1.3.0/src/learner.cc:1061: Starting in XGBoost 1.3.0, the default evaluation metric used with the objective 'multi:softprob' was changed from 'merror' to 'mlogloss'. Explicitly set eval_metric if you'd like to restore the old behavior.\n",
      " Prediction Accuracy  : 0.99928 \n",
      "\n",
      "Accuracy : 0.87187 \n",
      "\n"
     ]
    }
   ],
   "source": [
    "xgb1 = XGBClassifier()           \n",
    "xgb1.fit(train_x,train_y)\n",
    "pred_train = xgb1.predict(train_x)\n",
    "pred_test = xgb1.predict(test_x)\n",
    "\n",
    "print(' Prediction Accuracy ', ':', round(accuracy_score(y_train, pred_train), 5), '\\n')\n",
    "print('Accuracy', ':', round(accuracy_score(test_y, pred_test), 5), '\\n')\n"
   ]
  },
  {
   "cell_type": "markdown",
   "metadata": {},
   "source": [
    "## Hyperparameter Tuning"
   ]
  },
  {
   "cell_type": "code",
   "execution_count": 32,
   "metadata": {},
   "outputs": [],
   "source": [
    "params={\n",
    "    'learning_rate':[.05,.1,.15,.2],\n",
    "    'n_estimators':[100,200,300,400,500,600,700,800,900,1000],\n",
    "    'max_depth':[3,4,5,6,8,10],\n",
    "    'gamma':[0.0,.1,.2,.3,.4]\n",
    "    \n",
    "}"
   ]
  },
  {
   "cell_type": "code",
   "execution_count": 33,
   "metadata": {},
   "outputs": [],
   "source": [
    "from sklearn.model_selection import RandomizedSearchCV"
   ]
  },
  {
   "cell_type": "code",
   "execution_count": 35,
   "metadata": {},
   "outputs": [],
   "source": [
    "random_search=RandomizedSearchCV(xgb1,param_distributions=params,n_iter=5,scoring='accuracy',n_jobs=-1,cv=5,verbose=3)"
   ]
  },
  {
   "cell_type": "code",
   "execution_count": 36,
   "metadata": {},
   "outputs": [],
   "source": [
    "label_encoder = preprocessing.LabelEncoder()\n",
    "  \n"
   ]
  },
  {
   "cell_type": "code",
   "execution_count": 37,
   "metadata": {},
   "outputs": [],
   "source": [
    "Y= label_encoder.fit_transform(df['label'])"
   ]
  },
  {
   "cell_type": "code",
   "execution_count": 40,
   "metadata": {},
   "outputs": [
    {
     "data": {
      "text/plain": [
       "array([0, 0, 0, ..., 9, 9, 9])"
      ]
     },
     "execution_count": 40,
     "metadata": {},
     "output_type": "execute_result"
    }
   ],
   "source": []
  },
  {
   "cell_type": "code",
   "execution_count": 41,
   "metadata": {},
   "outputs": [
    {
     "name": "stdout",
     "output_type": "stream",
     "text": [
      "Fitting 5 folds for each of 5 candidates, totalling 25 fits\n"
     ]
    },
    {
     "name": "stderr",
     "output_type": "stream",
     "text": [
      "[Parallel(n_jobs=-1)]: Using backend LokyBackend with 4 concurrent workers.\n",
      "[Parallel(n_jobs=-1)]: Done  25 out of  25 | elapsed: 57.1min finished\n",
      "C:\\Users\\srigin\\anaconda3\\lib\\site-packages\\xgboost\\sklearn.py:888: UserWarning: The use of label encoder in XGBClassifier is deprecated and will be removed in a future release. To remove this warning, do the following: 1) Pass option use_label_encoder=False when constructing XGBClassifier object; and 2) Encode your labels (y) as integers starting with 0, i.e. 0, 1, 2, ..., [num_class - 1].\n",
      "  warnings.warn(label_encoder_deprecation_msg, UserWarning)\n"
     ]
    },
    {
     "name": "stdout",
     "output_type": "stream",
     "text": [
      "[12:27:39] WARNING: C:/Users/Administrator/workspace/xgboost-win64_release_1.3.0/src/learner.cc:1061: Starting in XGBoost 1.3.0, the default evaluation metric used with the objective 'multi:softprob' was changed from 'merror' to 'mlogloss'. Explicitly set eval_metric if you'd like to restore the old behavior.\n"
     ]
    },
    {
     "data": {
      "text/plain": [
       "RandomizedSearchCV(cv=5, error_score=nan,\n",
       "                   estimator=XGBClassifier(base_score=0.5, booster='gbtree',\n",
       "                                           colsample_bylevel=1,\n",
       "                                           colsample_bynode=1,\n",
       "                                           colsample_bytree=1, gamma=0,\n",
       "                                           gpu_id=-1, importance_type='gain',\n",
       "                                           interaction_constraints='',\n",
       "                                           learning_rate=0.300000012,\n",
       "                                           max_delta_step=0, max_depth=6,\n",
       "                                           min_child_weight=1, missing=nan,\n",
       "                                           monotone_constraints='()',\n",
       "                                           n_estimators=100...\n",
       "                                           validate_parameters=1,\n",
       "                                           verbosity=None),\n",
       "                   iid='deprecated', n_iter=5, n_jobs=-1,\n",
       "                   param_distributions={'gamma': [0.0, 0.1, 0.2, 0.3, 0.4],\n",
       "                                        'learning_rate': [0.05, 0.1, 0.15, 0.2],\n",
       "                                        'max_depth': [3, 4, 5, 6, 8, 10],\n",
       "                                        'n_estimators': [100, 200, 300, 400,\n",
       "                                                         500, 600, 700, 800,\n",
       "                                                         900, 1000]},\n",
       "                   pre_dispatch='2*n_jobs', random_state=None, refit=True,\n",
       "                   return_train_score=False, scoring='accuracy', verbose=3)"
      ]
     },
     "execution_count": 41,
     "metadata": {},
     "output_type": "execute_result"
    }
   ],
   "source": [
    "random_search.fit(X,Y)"
   ]
  },
  {
   "cell_type": "code",
   "execution_count": 42,
   "metadata": {},
   "outputs": [
    {
     "data": {
      "text/plain": [
       "XGBClassifier(base_score=0.5, booster='gbtree', colsample_bylevel=1,\n",
       "              colsample_bynode=1, colsample_bytree=1, gamma=0.0, gpu_id=-1,\n",
       "              importance_type='gain', interaction_constraints='',\n",
       "              learning_rate=0.2, max_delta_step=0, max_depth=4,\n",
       "              min_child_weight=1, missing=nan, monotone_constraints='()',\n",
       "              n_estimators=500, n_jobs=4, num_parallel_tree=1,\n",
       "              objective='multi:softprob', random_state=0, reg_alpha=0,\n",
       "              reg_lambda=1, scale_pos_weight=None, subsample=1,\n",
       "              tree_method='exact', use_label_encoder=True,\n",
       "              validate_parameters=1, verbosity=None)"
      ]
     },
     "execution_count": 42,
     "metadata": {},
     "output_type": "execute_result"
    }
   ],
   "source": [
    "random_search.best_estimator_"
   ]
  },
  {
   "cell_type": "code",
   "execution_count": 43,
   "metadata": {},
   "outputs": [
    {
     "data": {
      "text/plain": [
       "{'n_estimators': 500, 'max_depth': 4, 'learning_rate': 0.2, 'gamma': 0.0}"
      ]
     },
     "execution_count": 43,
     "metadata": {},
     "output_type": "execute_result"
    }
   ],
   "source": [
    "random_search.best_params_"
   ]
  },
  {
   "cell_type": "markdown",
   "metadata": {},
   "source": [
    "### Final Model "
   ]
  },
  {
   "cell_type": "code",
   "execution_count": 46,
   "metadata": {},
   "outputs": [
    {
     "name": "stdout",
     "output_type": "stream",
     "text": [
      "[12:38:16] WARNING: C:/Users/Administrator/workspace/xgboost-win64_release_1.3.0/src/learner.cc:1061: Starting in XGBoost 1.3.0, the default evaluation metric used with the objective 'multi:softprob' was changed from 'merror' to 'mlogloss'. Explicitly set eval_metric if you'd like to restore the old behavior.\n",
      " Prediction Accuracy  : 0.99928 \n",
      "\n",
      "Accuracy : 0.87721 \n",
      "\n"
     ]
    }
   ],
   "source": [
    "xgb2 = XGBClassifier(n_estimators= 500, max_depth= 4, learning_rate= 0.2, gamma= 0.0)           \n",
    "xgb2.fit(train_x,train_y)\n",
    "pred_train = xgb2.predict(train_x)\n",
    "pred_test = xgb2.predict(test_x)\n",
    "\n",
    "print(' Prediction Accuracy ', ':', round(accuracy_score(y_train, pred_train), 5), '\\n')\n",
    "print('Accuracy', ':', round(accuracy_score(test_y, pred_test), 5), '\\n')\n"
   ]
  },
  {
   "cell_type": "markdown",
   "metadata": {},
   "source": []
  },
  {
   "cell_type": "code",
   "execution_count": null,
   "metadata": {},
   "outputs": [],
   "source": []
  },
  {
   "cell_type": "markdown",
   "metadata": {},
   "source": [
    "### Music Genre Prediction "
   ]
  },
  {
   "cell_type": "code",
   "execution_count": 20,
   "metadata": {},
   "outputs": [],
   "source": [
    "filename=f'{general_path}/genres_original/blues/0_blues.00000.wav'"
   ]
  },
  {
   "cell_type": "code",
   "execution_count": 23,
   "metadata": {},
   "outputs": [],
   "source": [
    "def predict_genre(filename):\n",
    "    a=Feature_extraction(filename)\n",
    "    d1 =np.array(a)\n",
    "    data1 = min_max_scaler.transform([d1])\n",
    "    genre_prediction = xgb.predict(data1)\n",
    "    print(genre_prediction[0])\n"
   ]
  },
  {
   "cell_type": "code",
   "execution_count": 24,
   "metadata": {},
   "outputs": [
    {
     "name": "stdout",
     "output_type": "stream",
     "text": [
      "blues\n"
     ]
    }
   ],
   "source": [
    "predict_genre(filename)"
   ]
  },
  {
   "cell_type": "code",
   "execution_count": 25,
   "metadata": {},
   "outputs": [],
   "source": [
    "xgb.save_model('model.json')"
   ]
  },
  {
   "cell_type": "code",
   "execution_count": null,
   "metadata": {},
   "outputs": [],
   "source": []
  }
 ],
 "metadata": {
  "kernelspec": {
   "display_name": "Python 3",
   "language": "python",
   "name": "python3"
  },
  "language_info": {
   "codemirror_mode": {
    "name": "ipython",
    "version": 3
   },
   "file_extension": ".py",
   "mimetype": "text/x-python",
   "name": "python",
   "nbconvert_exporter": "python",
   "pygments_lexer": "ipython3",
   "version": "3.7.6"
  }
 },
 "nbformat": 4,
 "nbformat_minor": 4
}
